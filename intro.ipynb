{
 "cells": [
  {
   "cell_type": "code",
   "execution_count": null,
   "metadata": {},
   "outputs": [],
   "source": [
    "from pyglet import app\n",
    "from pyglet.window import Window, key\n",
    "from pyglet.text import Label\n",
    "from pyglet.resource import image\n",
    "from pyglet.clock import schedule_interval\n",
    "\n",
    "from dummie import Dummie\n"
   ]
  },
  {
   "cell_type": "code",
   "execution_count": null,
   "metadata": {},
   "outputs": [],
   "source": [
    "WINDOW = Window()  # fullscreen=True\n",
    "DUMMIE = Dummie(WINDOW.width // 2, WINDOW.height // 2)\n",
    "FONT_SIZE = 24\n",
    "BACKGROUND = image(\"resources/background.jpg\")\n",
    "GREET_LBL = Label(\n",
    "    text=\"Вітаю на прокачку)\",\n",
    "    font_name=\"Roboto\",\n",
    "    font_size=FONT_SIZE,\n",
    "    bold=True,\n",
    "    x=WINDOW.width // 2,\n",
    "    y=WINDOW.height - FONT_SIZE // 2, #// 2 - FONT_SIZE,\n",
    "    anchor_x=\"center\",\n",
    "    anchor_y=\"center\",\n",
    ")\n",
    "schedule_interval(DUMMIE.update, 1/30.)"
   ]
  },
  {
   "cell_type": "code",
   "execution_count": null,
   "metadata": {},
   "outputs": [],
   "source": [
    "\n",
    "@WINDOW.event\n",
    "def on_draw():\n",
    "    WINDOW.clear()\n",
    "    BACKGROUND.blit(0, 0, width=WINDOW.width-1, height=WINDOW.height-1 )\n",
    "    DUMMIE.draw()\n",
    "    GREET_LBL.draw()"
   ]
  },
  {
   "cell_type": "code",
   "execution_count": null,
   "metadata": {},
   "outputs": [],
   "source": [
    "from direction import Direction\n",
    "\n",
    "\n",
    "@WINDOW.event\n",
    "def on_key_press(symbol, modifiers):\n",
    "    match symbol:\n",
    "        case key.A:\n",
    "            print(\"Left direction\")\n",
    "            DUMMIE.move(direction=Direction.LEFT)\n",
    "        case key.D:\n",
    "            print(\"Right direction\")\n",
    "            DUMMIE.move(direction=Direction.RIGHT) \n",
    "        case key.SPACE:\n",
    "            print(\"Jump\")\n",
    "            DUMMIE.move(direction=Direction.JUMP)\n",
    "        case key.MOD_CTRL:\n",
    "            print(\"CROWD\")\n",
    "            DUMMIE.move(direction=Direction.CROWD)\n",
    "            \n",
    "        case key.ESCAPE:\n",
    "            print(\"Quit the game)\")\n",
    "            app.exit()\n",
    "    # print(f'{symbol=} {modifiers=}')"
   ]
  },
  {
   "cell_type": "code",
   "execution_count": null,
   "metadata": {},
   "outputs": [],
   "source": [
    "app.run()"
   ]
  }
 ],
 "metadata": {
  "kernelspec": {
   "display_name": ".venv",
   "language": "python",
   "name": "python3"
  },
  "language_info": {
   "codemirror_mode": {
    "name": "ipython",
    "version": 3
   },
   "file_extension": ".py",
   "mimetype": "text/x-python",
   "name": "python",
   "nbconvert_exporter": "python",
   "pygments_lexer": "ipython3",
   "version": "3.12.3"
  }
 },
 "nbformat": 4,
 "nbformat_minor": 2
}
