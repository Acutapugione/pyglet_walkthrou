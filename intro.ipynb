{
 "cells": [
  {
   "cell_type": "code",
   "execution_count": 25,
   "metadata": {},
   "outputs": [],
   "source": [
    "from pyglet.app import run\n",
    "from pyglet.window import Window\n",
    "from pyglet.text import Label\n",
    "from pyglet.resource import image"
   ]
  },
  {
   "cell_type": "code",
   "execution_count": 26,
   "metadata": {},
   "outputs": [],
   "source": [
    "WINDOW = Window()  # fullscreen=True\n",
    "FONT_SIZE = 24\n",
    "BACKGROUND = image(\"resources/background.jpg\")\n",
    "GREET_LBL = Label(\n",
    "    text=\"Вітаю на прокачку)\",\n",
    "    font_name=\"Roboto\",\n",
    "    font_size=FONT_SIZE,\n",
    "    bold=True,\n",
    "    x=WINDOW.width // 2,\n",
    "    y=WINDOW.height - FONT_SIZE // 2, #// 2 - FONT_SIZE,\n",
    "    anchor_x=\"center\",\n",
    "    anchor_y=\"center\",\n",
    ")"
   ]
  },
  {
   "cell_type": "code",
   "execution_count": 27,
   "metadata": {},
   "outputs": [],
   "source": [
    "@WINDOW.event\n",
    "def on_draw():\n",
    "    WINDOW.clear()\n",
    "    BACKGROUND.blit(0, 0, width=WINDOW.width-1, height=WINDOW.height-1 )\n",
    "    GREET_LBL.draw()"
   ]
  },
  {
   "cell_type": "code",
   "execution_count": 28,
   "metadata": {},
   "outputs": [],
   "source": [
    "run()"
   ]
  }
 ],
 "metadata": {
  "kernelspec": {
   "display_name": ".venv",
   "language": "python",
   "name": "python3"
  },
  "language_info": {
   "codemirror_mode": {
    "name": "ipython",
    "version": 3
   },
   "file_extension": ".py",
   "mimetype": "text/x-python",
   "name": "python",
   "nbconvert_exporter": "python",
   "pygments_lexer": "ipython3",
   "version": "3.12.3"
  }
 },
 "nbformat": 4,
 "nbformat_minor": 2
}
